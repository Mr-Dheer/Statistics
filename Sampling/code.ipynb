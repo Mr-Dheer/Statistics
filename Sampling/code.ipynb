{
 "cells": [
  {
   "cell_type": "markdown",
   "metadata": {},
   "source": [
    "## Random Sampling"
   ]
  },
  {
   "cell_type": "code",
   "execution_count": null,
   "metadata": {},
   "outputs": [],
   "source": [
    "import numpy as np\n",
    "\n",
    "\n",
    "population_df = [1, 2, 3, 4, 11, 12, 34, 23, 56, 234, 457,231, 56, 213, 567, 123, 25, 56756, 123, 345, 1234, 123]\n",
    "\n",
    "# function that creates random sample\n",
    "\n",
    "\n",
    "def random_sampling(df, n):\n",
    "    random_sample = np.random.choice(df, size=n)\n",
    "    return(random_sample)\n",
    "\n",
    "\n",
    "# Over here on N specify how many you want, Change the value of N\n",
    "randomSample = random_sampling(population_df, N)\n",
    "randomSample\n"
   ]
  },
  {
   "cell_type": "markdown",
   "metadata": {},
   "source": [
    "#### Another way to use"
   ]
  },
  {
   "cell_type": "code",
   "execution_count": 8,
   "metadata": {},
   "outputs": [
    {
     "data": {
      "text/plain": [
       "[12, 56756, 123, 3, 56, 34, 1, 213, 567, 1234]"
      ]
     },
     "execution_count": 8,
     "metadata": {},
     "output_type": "execute_result"
    }
   ],
   "source": [
    "import random\n",
    "\n",
    "\n",
    "population_df = [1, 2, 3, 4, 11, 12, 34, 23, 56, 234, 457,\n",
    "                 231, 56, 213, 567, 123, 25, 56756, 123, 345, 1234, 123]\n",
    "\n",
    "# Over here on N specify how many you want, Change the value of N\n",
    "randomSample=random.sample(population_df,N)\n",
    "\n",
    "randomSample\n"
   ]
  },
  {
   "cell_type": "markdown",
   "metadata": {},
   "source": [
    "### Stratified Sampling \n",
    " "
   ]
  },
  {
   "cell_type": "code",
   "execution_count": null,
   "metadata": {},
   "outputs": [],
   "source": [
    "\"\"\"Stratifies data according to the values and proportions passed in\n",
    "    Args:\n",
    "        df_data (DataFrame): source data\n",
    "        stratify_column_name (str): The name of the single column in the dataframe that holds the data values that will be used to stratify the data\n",
    "        stratify_values (list of str): A list of all of the potential values for stratifying e.g. \"Male, Graduate\", \"Male, Undergraduate\", \"Female, Graduate\", \"Female, Undergraduate\"\n",
    "        stratify_proportions (list of float): A list of numbers representing the desired propotions for stratifying e.g. 0.4, 0.4, 0.2, 0.2, The list values must add up to 1 and must match the number of values in stratify_values\n",
    "        random_state (int, optional): sets the random_state. Defaults to None.\n",
    "    Returns:\n",
    "        DataFrame: a new dataframe based on df_data that has the new proportions represnting the desired strategy for stratifying\n",
    "    \"\"\""
   ]
  },
  {
   "cell_type": "code",
   "execution_count": null,
   "metadata": {},
   "outputs": [],
   "source": [
    "def stratify_data(df_data, stratify_column_name, stratify_values, stratify_proportions, random_state=None):\n",
    "    \n",
    "   \n",
    "    df_stratified = pd.DataFrame(\n",
    "        columns=df_data.columns)  # Create an empty DataFrame with column names matching df_data\n",
    "\n",
    "    pos = -1\n",
    "    # iterate over the stratify values (e.g. \"Male, Undergraduate\" etc.)\n",
    "    for i in range(len(stratify_values)):\n",
    "        pos += 1\n",
    "        if pos == len(stratify_values) - 1:\n",
    "            # if this is the final iteration make sure we calculate the number of values for the last set such that the return data has the same number of rows as the source data\n",
    "            ratio_len = len(df_data) - len(df_stratified)\n",
    "        else:\n",
    "            # Calculate the number of rows to match the desired proportion\n",
    "            ratio_len = int(len(df_data) * stratify_proportions[i])\n",
    "\n",
    "        # Filter the source data based on the currently selected stratify value\n",
    "        df_filtered = df_data[df_data[stratify_column_name]\n",
    "                              == stratify_values[i]]\n",
    "        # Sample the filtered data using the calculated ratio\n",
    "        df_temp = df_filtered.sample(\n",
    "            replace=True, n=ratio_len, random_state=random_state)\n",
    "\n",
    "        # Add the sampled / stratified datasets together to produce the final result\n",
    "        df_stratified = pd.concat([df_stratified, df_temp])\n",
    "\n",
    "    return df_stratified\n"
   ]
  }
 ],
 "metadata": {
  "interpreter": {
   "hash": "7df1f7612fcc18c4644731361a6da1d0278d8c7329816269b128f0f05fbcb1e2"
  },
  "kernelspec": {
   "display_name": "Python 3.9.12 ('base')",
   "language": "python",
   "name": "python3"
  },
  "language_info": {
   "codemirror_mode": {
    "name": "ipython",
    "version": 3
   },
   "file_extension": ".py",
   "mimetype": "text/x-python",
   "name": "python",
   "nbconvert_exporter": "python",
   "pygments_lexer": "ipython3",
   "version": "3.9.12"
  },
  "orig_nbformat": 4
 },
 "nbformat": 4,
 "nbformat_minor": 2
}
